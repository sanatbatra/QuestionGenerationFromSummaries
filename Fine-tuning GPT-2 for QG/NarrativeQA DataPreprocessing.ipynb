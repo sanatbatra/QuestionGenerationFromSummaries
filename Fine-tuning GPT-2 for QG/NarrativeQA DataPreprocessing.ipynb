{
 "cells": [
  {
   "cell_type": "code",
   "execution_count": 1,
   "metadata": {
    "colab": {},
    "colab_type": "code",
    "id": "Q3nGico2hTYB"
   },
   "outputs": [],
   "source": [
    "import numpy as np\n",
    "import pandas as pd"
   ]
  },
  {
   "cell_type": "code",
   "execution_count": 2,
   "metadata": {
    "colab": {
     "base_uri": "https://localhost:8080/",
     "height": 375
    },
    "colab_type": "code",
    "executionInfo": {
     "elapsed": 906,
     "status": "error",
     "timestamp": 1586282980759,
     "user": {
      "displayName": "Davida Kollmar",
      "photoUrl": "",
      "userId": "07636884654328196530"
     },
     "user_tz": 240
    },
    "id": "n-1_v6aIlhcR",
    "outputId": "db206a81-f6e5-415a-e40b-73fa0ec9bcbb"
   },
   "outputs": [],
   "source": [
    "summaries = pd.read_csv(\"summaries.csv\")\n",
    "qaps = pd.read_csv(\"qaps.csv\")"
   ]
  },
  {
   "cell_type": "code",
   "execution_count": 4,
   "metadata": {
    "colab": {
     "base_uri": "https://localhost:8080/",
     "height": 85
    },
    "colab_type": "code",
    "executionInfo": {
     "elapsed": 1296,
     "status": "ok",
     "timestamp": 1586263275211,
     "user": {
      "displayName": "Sanat Batra",
      "photoUrl": "",
      "userId": "15061349105836651043"
     },
     "user_tz": -330
    },
    "id": "-BnndbkAqnmR",
    "outputId": "c3ffce83-0f52-4743-9171-845e13de48d6"
   },
   "outputs": [
    {
     "data": {
      "text/plain": [
       "train    1102\n",
       "test      355\n",
       "valid     115\n",
       "Name: set, dtype: int64"
      ]
     },
     "execution_count": 4,
     "metadata": {},
     "output_type": "execute_result"
    }
   ],
   "source": [
    "summaries.set.value_counts()"
   ]
  },
  {
   "cell_type": "code",
   "execution_count": 5,
   "metadata": {
    "colab": {
     "base_uri": "https://localhost:8080/",
     "height": 85
    },
    "colab_type": "code",
    "executionInfo": {
     "elapsed": 1552,
     "status": "ok",
     "timestamp": 1586263452083,
     "user": {
      "displayName": "Sanat Batra",
      "photoUrl": "",
      "userId": "15061349105836651043"
     },
     "user_tz": -330
    },
    "id": "s--8GtPqr-HM",
    "outputId": "29e403e8-5cfb-45a1-c072-7ab3e309da49"
   },
   "outputs": [
    {
     "data": {
      "text/plain": [
       "train    32747\n",
       "test     10557\n",
       "valid     3461\n",
       "Name: set, dtype: int64"
      ]
     },
     "execution_count": 5,
     "metadata": {},
     "output_type": "execute_result"
    }
   ],
   "source": [
    "qaps.set.value_counts()"
   ]
  },
  {
   "cell_type": "code",
   "execution_count": 11,
   "metadata": {},
   "outputs": [],
   "source": [
    "#dataFrame.join(self, other, on=None, how='left', lsuffix='', rsuffix='', sort=False) \n",
    "_all = qaps.merge(summaries, on = [\"document_id\", \"set\"], how = \"left\")"
   ]
  },
  {
   "cell_type": "code",
   "execution_count": 12,
   "metadata": {},
   "outputs": [
    {
     "data": {
      "text/plain": [
       "(46765, 8)"
      ]
     },
     "execution_count": 12,
     "metadata": {},
     "output_type": "execute_result"
    }
   ],
   "source": [
    "qaps.shape"
   ]
  },
  {
   "cell_type": "code",
   "execution_count": 13,
   "metadata": {},
   "outputs": [
    {
     "data": {
      "text/plain": [
       "(46765, 10)"
      ]
     },
     "execution_count": 13,
     "metadata": {},
     "output_type": "execute_result"
    }
   ],
   "source": [
    "_all.shape"
   ]
  },
  {
   "cell_type": "code",
   "execution_count": 14,
   "metadata": {},
   "outputs": [
    {
     "data": {
      "text/plain": [
       "Index(['document_id', 'set', 'question', 'answer1', 'answer2',\n",
       "       'question_tokenized', 'answer1_tokenized', 'answer2_tokenized',\n",
       "       'summary', 'summary_tokenized'],\n",
       "      dtype='object')"
      ]
     },
     "execution_count": 14,
     "metadata": {},
     "output_type": "execute_result"
    }
   ],
   "source": [
    "_all.columns"
   ]
  },
  {
   "cell_type": "code",
   "execution_count": 15,
   "metadata": {},
   "outputs": [
    {
     "data": {
      "text/plain": [
       "train    32747\n",
       "test     10557\n",
       "valid     3461\n",
       "Name: set, dtype: int64"
      ]
     },
     "execution_count": 15,
     "metadata": {},
     "output_type": "execute_result"
    }
   ],
   "source": [
    "_all.set.value_counts()"
   ]
  },
  {
   "cell_type": "code",
   "execution_count": 70,
   "metadata": {},
   "outputs": [],
   "source": [
    "training = _all[_all.set == \"train\"]\n",
    "validation = _all[_all.set == \"valid\"]\n",
    "test = _all[_all.set == \"test\"]"
   ]
  },
  {
   "cell_type": "code",
   "execution_count": 83,
   "metadata": {},
   "outputs": [],
   "source": [
    "def generate(data):\n",
    "    dataset = [] \n",
    "    for index, row in data.iterrows():\n",
    "        summary_text = row.summary\n",
    "        question_text = row.question\n",
    "        answer_text = row.answer1+\" OR \"+row.answer2\n",
    "        example = \"<|startoftext|>\\n[summary] {}\\n[answer] {}\\n[question] {}\\n<|endoftext|>\\n\".format(summary_text, answer_text, question_text)\n",
    "        dataset.append(example)\n",
    "    return dataset "
   ]
  },
  {
   "cell_type": "code",
   "execution_count": 27,
   "metadata": {},
   "outputs": [],
   "source": [
    "f = open(\"training_set.txt\",\"w\", encoding='utf-8')\n",
    "f.writelines(training_set)\n",
    "f.close()"
   ]
  },
  {
   "cell_type": "code",
   "execution_count": 86,
   "metadata": {},
   "outputs": [
    {
     "data": {
      "text/html": [
       "<div>\n",
       "<style scoped>\n",
       "    .dataframe tbody tr th:only-of-type {\n",
       "        vertical-align: middle;\n",
       "    }\n",
       "\n",
       "    .dataframe tbody tr th {\n",
       "        vertical-align: top;\n",
       "    }\n",
       "\n",
       "    .dataframe thead th {\n",
       "        text-align: right;\n",
       "    }\n",
       "</style>\n",
       "<table border=\"1\" class=\"dataframe\">\n",
       "  <thead>\n",
       "    <tr style=\"text-align: right;\">\n",
       "      <th></th>\n",
       "      <th>document_id</th>\n",
       "      <th>set</th>\n",
       "      <th>question</th>\n",
       "      <th>answer1</th>\n",
       "      <th>answer2</th>\n",
       "      <th>question_tokenized</th>\n",
       "      <th>answer1_tokenized</th>\n",
       "      <th>answer2_tokenized</th>\n",
       "      <th>summary</th>\n",
       "      <th>summary_tokenized</th>\n",
       "    </tr>\n",
       "  </thead>\n",
       "  <tbody>\n",
       "    <tr>\n",
       "      <th>197</th>\n",
       "      <td>00fb61fa7bee266ad995e52190ebb73606b60b70</td>\n",
       "      <td>valid</td>\n",
       "      <td>WHO NORMALLY DELIVERS THE OPENING PROLOGUE IN ...</td>\n",
       "      <td>THE ACTOR WEARING THE BLACK CLOAK</td>\n",
       "      <td>The actor in the black cloak</td>\n",
       "      <td>WHO NORMALLY DELIVERS THE OPENING PROLOGUE IN ...</td>\n",
       "      <td>THE ACTOR WEARING THE BLACK CLOAK</td>\n",
       "      <td>The actor in the black cloak</td>\n",
       "      <td>The play begins with three pages disputing ov...</td>\n",
       "      <td>The play begins with three pages disputing ove...</td>\n",
       "    </tr>\n",
       "    <tr>\n",
       "      <th>198</th>\n",
       "      <td>00fb61fa7bee266ad995e52190ebb73606b60b70</td>\n",
       "      <td>valid</td>\n",
       "      <td>WHAT NAME WAS CYNTHIA MORE FAMOUSLY KNOWN BY?</td>\n",
       "      <td>THE GODDESS DIANA</td>\n",
       "      <td>The goddess Diana</td>\n",
       "      <td>WHAT NAME WAS CYNTHIA MORE FAMOUSLY KNOWN BY ?</td>\n",
       "      <td>THE GODDESS DIANA</td>\n",
       "      <td>The goddess Diana</td>\n",
       "      <td>The play begins with three pages disputing ov...</td>\n",
       "      <td>The play begins with three pages disputing ove...</td>\n",
       "    </tr>\n",
       "    <tr>\n",
       "      <th>199</th>\n",
       "      <td>00fb61fa7bee266ad995e52190ebb73606b60b70</td>\n",
       "      <td>valid</td>\n",
       "      <td>WHO DOES ECHO WEEP FOR?</td>\n",
       "      <td>NARCISSUS</td>\n",
       "      <td>Narcissus</td>\n",
       "      <td>WHO DOES ECHO WEEP FOR ?</td>\n",
       "      <td>NARCISSUS</td>\n",
       "      <td>Narcissus</td>\n",
       "      <td>The play begins with three pages disputing ov...</td>\n",
       "      <td>The play begins with three pages disputing ove...</td>\n",
       "    </tr>\n",
       "    <tr>\n",
       "      <th>200</th>\n",
       "      <td>00fb61fa7bee266ad995e52190ebb73606b60b70</td>\n",
       "      <td>valid</td>\n",
       "      <td>WHAT DOES A DRINK FROM NARCISSUS'S SPRING CAUS...</td>\n",
       "      <td>FALL IN LOVE WITH THEMSELVES</td>\n",
       "      <td>Grow dotingly enamored with themselves</td>\n",
       "      <td>WHAT DOES A DRINK FROM NARCISSUS S SPRING CAUS...</td>\n",
       "      <td>FALL IN LOVE WITH THEMSELVES</td>\n",
       "      <td>Grow dotingly enamored with themselves</td>\n",
       "      <td>The play begins with three pages disputing ov...</td>\n",
       "      <td>The play begins with three pages disputing ove...</td>\n",
       "    </tr>\n",
       "    <tr>\n",
       "      <th>201</th>\n",
       "      <td>00fb61fa7bee266ad995e52190ebb73606b60b70</td>\n",
       "      <td>valid</td>\n",
       "      <td>IN WHAT VALLEY DID THE SOLEMN REVELS OF CYNTHI...</td>\n",
       "      <td>GARGAPHIE IN GREECE</td>\n",
       "      <td>Gargaphie</td>\n",
       "      <td>IN WHAT VALLEY DID THE SOLEMN REVELS OF CYNTHI...</td>\n",
       "      <td>GARGAPHIE IN GREECE</td>\n",
       "      <td>Gargaphie</td>\n",
       "      <td>The play begins with three pages disputing ov...</td>\n",
       "      <td>The play begins with three pages disputing ove...</td>\n",
       "    </tr>\n",
       "    <tr>\n",
       "      <th>...</th>\n",
       "      <td>...</td>\n",
       "      <td>...</td>\n",
       "      <td>...</td>\n",
       "      <td>...</td>\n",
       "      <td>...</td>\n",
       "      <td>...</td>\n",
       "      <td>...</td>\n",
       "      <td>...</td>\n",
       "      <td>...</td>\n",
       "      <td>...</td>\n",
       "    </tr>\n",
       "    <tr>\n",
       "      <th>46702</th>\n",
       "      <td>ffa719867c77cfd8fc661fdb6d8c8d266746e15f</td>\n",
       "      <td>valid</td>\n",
       "      <td>Who is Randi?</td>\n",
       "      <td>Marianne's sister</td>\n",
       "      <td>Marianne's sister</td>\n",
       "      <td>Who is Randi ?</td>\n",
       "      <td>Marianne s sister</td>\n",
       "      <td>Marianne s sister</td>\n",
       "      <td>John LeTour, a 40-year-old New Yorker, is one...</td>\n",
       "      <td>John LeTour , a 40-year-old New Yorker , is on...</td>\n",
       "    </tr>\n",
       "    <tr>\n",
       "      <th>46703</th>\n",
       "      <td>ffa719867c77cfd8fc661fdb6d8c8d266746e15f</td>\n",
       "      <td>valid</td>\n",
       "      <td>Who does LeTour kill?</td>\n",
       "      <td>Tis and his henchmen</td>\n",
       "      <td>Tis and Tis's henchmen.</td>\n",
       "      <td>Who does LeTour kill ?</td>\n",
       "      <td>Tis and his henchmen</td>\n",
       "      <td>Tis and Tis s henchmen .</td>\n",
       "      <td>John LeTour, a 40-year-old New Yorker, is one...</td>\n",
       "      <td>John LeTour , a 40-year-old New Yorker , is on...</td>\n",
       "    </tr>\n",
       "    <tr>\n",
       "      <th>46704</th>\n",
       "      <td>ffa719867c77cfd8fc661fdb6d8c8d266746e15f</td>\n",
       "      <td>valid</td>\n",
       "      <td>What does LeTour do for a living?</td>\n",
       "      <td>Delivers drugs</td>\n",
       "      <td>delivers drugs for Ann</td>\n",
       "      <td>What does LeTour do for a living ?</td>\n",
       "      <td>Delivers drugs</td>\n",
       "      <td>delivers drugs for Ann</td>\n",
       "      <td>John LeTour, a 40-year-old New Yorker, is one...</td>\n",
       "      <td>John LeTour , a 40-year-old New Yorker , is on...</td>\n",
       "    </tr>\n",
       "    <tr>\n",
       "      <th>46705</th>\n",
       "      <td>ffa719867c77cfd8fc661fdb6d8c8d266746e15f</td>\n",
       "      <td>valid</td>\n",
       "      <td>Who is Ann?</td>\n",
       "      <td>LeTour's boss</td>\n",
       "      <td>A drug supplier for clientele in the banking a...</td>\n",
       "      <td>Who is Ann ?</td>\n",
       "      <td>LeTour s boss</td>\n",
       "      <td>A drug supplier for clientele in the banking a...</td>\n",
       "      <td>John LeTour, a 40-year-old New Yorker, is one...</td>\n",
       "      <td>John LeTour , a 40-year-old New Yorker , is on...</td>\n",
       "    </tr>\n",
       "    <tr>\n",
       "      <th>46706</th>\n",
       "      <td>ffa719867c77cfd8fc661fdb6d8c8d266746e15f</td>\n",
       "      <td>valid</td>\n",
       "      <td>How does Marianne die?</td>\n",
       "      <td>Falls several stories</td>\n",
       "      <td>She falls several stories to her death.</td>\n",
       "      <td>How does Marianne die ?</td>\n",
       "      <td>Falls several stories</td>\n",
       "      <td>She falls several stories to her death .</td>\n",
       "      <td>John LeTour, a 40-year-old New Yorker, is one...</td>\n",
       "      <td>John LeTour , a 40-year-old New Yorker , is on...</td>\n",
       "    </tr>\n",
       "  </tbody>\n",
       "</table>\n",
       "<p>3461 rows × 10 columns</p>\n",
       "</div>"
      ],
      "text/plain": [
       "                                    document_id    set  \\\n",
       "197    00fb61fa7bee266ad995e52190ebb73606b60b70  valid   \n",
       "198    00fb61fa7bee266ad995e52190ebb73606b60b70  valid   \n",
       "199    00fb61fa7bee266ad995e52190ebb73606b60b70  valid   \n",
       "200    00fb61fa7bee266ad995e52190ebb73606b60b70  valid   \n",
       "201    00fb61fa7bee266ad995e52190ebb73606b60b70  valid   \n",
       "...                                         ...    ...   \n",
       "46702  ffa719867c77cfd8fc661fdb6d8c8d266746e15f  valid   \n",
       "46703  ffa719867c77cfd8fc661fdb6d8c8d266746e15f  valid   \n",
       "46704  ffa719867c77cfd8fc661fdb6d8c8d266746e15f  valid   \n",
       "46705  ffa719867c77cfd8fc661fdb6d8c8d266746e15f  valid   \n",
       "46706  ffa719867c77cfd8fc661fdb6d8c8d266746e15f  valid   \n",
       "\n",
       "                                                question  \\\n",
       "197    WHO NORMALLY DELIVERS THE OPENING PROLOGUE IN ...   \n",
       "198        WHAT NAME WAS CYNTHIA MORE FAMOUSLY KNOWN BY?   \n",
       "199                              WHO DOES ECHO WEEP FOR?   \n",
       "200    WHAT DOES A DRINK FROM NARCISSUS'S SPRING CAUS...   \n",
       "201    IN WHAT VALLEY DID THE SOLEMN REVELS OF CYNTHI...   \n",
       "...                                                  ...   \n",
       "46702                                     Who is Randi?    \n",
       "46703                             Who does LeTour kill?    \n",
       "46704                 What does LeTour do for a living?    \n",
       "46705                                       Who is Ann?    \n",
       "46706                            How does Marianne die?    \n",
       "\n",
       "                                 answer1  \\\n",
       "197    THE ACTOR WEARING THE BLACK CLOAK   \n",
       "198                    THE GODDESS DIANA   \n",
       "199                            NARCISSUS   \n",
       "200         FALL IN LOVE WITH THEMSELVES   \n",
       "201                  GARGAPHIE IN GREECE   \n",
       "...                                  ...   \n",
       "46702                  Marianne's sister   \n",
       "46703               Tis and his henchmen   \n",
       "46704                     Delivers drugs   \n",
       "46705                      LeTour's boss   \n",
       "46706              Falls several stories   \n",
       "\n",
       "                                                 answer2  \\\n",
       "197                        The actor in the black cloak    \n",
       "198                                    The goddess Diana   \n",
       "199                                            Narcissus   \n",
       "200              Grow dotingly enamored with themselves    \n",
       "201                                           Gargaphie    \n",
       "...                                                  ...   \n",
       "46702                                  Marianne's sister   \n",
       "46703                           Tis and Tis's henchmen.    \n",
       "46704                             delivers drugs for Ann   \n",
       "46705  A drug supplier for clientele in the banking a...   \n",
       "46706            She falls several stories to her death.   \n",
       "\n",
       "                                      question_tokenized  \\\n",
       "197    WHO NORMALLY DELIVERS THE OPENING PROLOGUE IN ...   \n",
       "198       WHAT NAME WAS CYNTHIA MORE FAMOUSLY KNOWN BY ?   \n",
       "199                             WHO DOES ECHO WEEP FOR ?   \n",
       "200    WHAT DOES A DRINK FROM NARCISSUS S SPRING CAUS...   \n",
       "201    IN WHAT VALLEY DID THE SOLEMN REVELS OF CYNTHI...   \n",
       "...                                                  ...   \n",
       "46702                                     Who is Randi ?   \n",
       "46703                             Who does LeTour kill ?   \n",
       "46704                 What does LeTour do for a living ?   \n",
       "46705                                       Who is Ann ?   \n",
       "46706                            How does Marianne die ?   \n",
       "\n",
       "                       answer1_tokenized  \\\n",
       "197    THE ACTOR WEARING THE BLACK CLOAK   \n",
       "198                    THE GODDESS DIANA   \n",
       "199                            NARCISSUS   \n",
       "200         FALL IN LOVE WITH THEMSELVES   \n",
       "201                  GARGAPHIE IN GREECE   \n",
       "...                                  ...   \n",
       "46702                  Marianne s sister   \n",
       "46703               Tis and his henchmen   \n",
       "46704                     Delivers drugs   \n",
       "46705                      LeTour s boss   \n",
       "46706              Falls several stories   \n",
       "\n",
       "                                       answer2_tokenized  \\\n",
       "197                         The actor in the black cloak   \n",
       "198                                    The goddess Diana   \n",
       "199                                            Narcissus   \n",
       "200               Grow dotingly enamored with themselves   \n",
       "201                                            Gargaphie   \n",
       "...                                                  ...   \n",
       "46702                                  Marianne s sister   \n",
       "46703                           Tis and Tis s henchmen .   \n",
       "46704                             delivers drugs for Ann   \n",
       "46705  A drug supplier for clientele in the banking a...   \n",
       "46706           She falls several stories to her death .   \n",
       "\n",
       "                                                 summary  \\\n",
       "197     The play begins with three pages disputing ov...   \n",
       "198     The play begins with three pages disputing ov...   \n",
       "199     The play begins with three pages disputing ov...   \n",
       "200     The play begins with three pages disputing ov...   \n",
       "201     The play begins with three pages disputing ov...   \n",
       "...                                                  ...   \n",
       "46702   John LeTour, a 40-year-old New Yorker, is one...   \n",
       "46703   John LeTour, a 40-year-old New Yorker, is one...   \n",
       "46704   John LeTour, a 40-year-old New Yorker, is one...   \n",
       "46705   John LeTour, a 40-year-old New Yorker, is one...   \n",
       "46706   John LeTour, a 40-year-old New Yorker, is one...   \n",
       "\n",
       "                                       summary_tokenized  \n",
       "197    The play begins with three pages disputing ove...  \n",
       "198    The play begins with three pages disputing ove...  \n",
       "199    The play begins with three pages disputing ove...  \n",
       "200    The play begins with three pages disputing ove...  \n",
       "201    The play begins with three pages disputing ove...  \n",
       "...                                                  ...  \n",
       "46702  John LeTour , a 40-year-old New Yorker , is on...  \n",
       "46703  John LeTour , a 40-year-old New Yorker , is on...  \n",
       "46704  John LeTour , a 40-year-old New Yorker , is on...  \n",
       "46705  John LeTour , a 40-year-old New Yorker , is on...  \n",
       "46706  John LeTour , a 40-year-old New Yorker , is on...  \n",
       "\n",
       "[3461 rows x 10 columns]"
      ]
     },
     "execution_count": 86,
     "metadata": {},
     "output_type": "execute_result"
    }
   ],
   "source": [
    "validation"
   ]
  },
  {
   "cell_type": "code",
   "execution_count": 84,
   "metadata": {},
   "outputs": [],
   "source": [
    "validation_set = generate(validation)"
   ]
  },
  {
   "cell_type": "code",
   "execution_count": 85,
   "metadata": {},
   "outputs": [
    {
     "data": {
      "text/plain": [
       "'<|startoftext|>\\n[summary]  The play begins with three pages disputing over the black cloak usually worn by the actor who delivers the prologue. They draw lots for the cloak, and one of the losers, Anaides, starts telling the audience what happens in the play to come; the others try to suppress him, interrupting him and putting their hands over his mouth. Soon they are fighting over the cloak and criticizing the author and the spectators as well.\\nIn the play proper, the goddess Diana, also called Cynthia, has ordained a \"solemn revels\" in the valley of Gargaphie in Greece. The gods Cupid and Mercury appear, and they too start to argue. Mercury has awakened Echo, who weeps for Narcissus, and states that a drink from Narcissus\\'s spring causes the drinkers to \"Grow dotingly enamored of themselves.\" The courtiers and ladies assembled for the Cynthia\\'s revels all drink from the spring.\\nAsotus, a foolish spendthrift who longs to become a courtier and a master of fashion and manners, also drinks from the spring; emboldened by vanity and self-love, he challenges all comers to a competition of \"court compliment.\" The competition is held, in four phases, and the courtiers are beaten. Two symbolic masques are performed within the play for the assembled revelers. At their conclusion, Cynthia (representing Queen Elizabeth) has the dancers unmask and shows that vices have masqueraded as virtues. She sentences them to make reparation and to purify themselves by bathing in the spring at Mount Helicon.\\nThe figure of Actaeon in the play may represent Robert Devereux, 2nd Earl of Essex, while Cynthia\\'s lady in waiting Arete may be Lucy, Countess of Bedford, one of Elizabeth\\'s ladies in waiting as well as Jonson\\'s patroness.\\nThe play is notably rich in music, as is typical for the theatre of the boys\\' companies, which originated as church choirs.\\n[answer] NARCISSUS OR Narcissus\\n[question] WHO DOES ECHO WEEP FOR?\\n<|endoftext|>\\n'"
      ]
     },
     "execution_count": 85,
     "metadata": {},
     "output_type": "execute_result"
    }
   ],
   "source": [
    "validation_set[2]"
   ]
  },
  {
   "cell_type": "markdown",
   "metadata": {},
   "source": [
    "# create training set of different format"
   ]
  },
  {
   "cell_type": "code",
   "execution_count": 16,
   "metadata": {},
   "outputs": [
    {
     "data": {
      "text/plain": [
       "3e9666459feb414586d9d23b51c8a020bacc150a    50\n",
       "00950a3641e6a28b04a6fabf6334140e2deaa9fd    50\n",
       "9561a72a7b909a62c43b5ff74e26103f7a03c4bc    50\n",
       "bf55d1c14536c04c4b8f8cb18ea8dd490e986066    50\n",
       "935775d945bc210b0928bffb6924e06e1ef9a9dd    50\n",
       "                                            ..\n",
       "bebb3d64b5731fd2cf2e4555686b4959eb2ac4f0    26\n",
       "2ec273117d26cd70933849d2a74327d04865a790    26\n",
       "fcc49197e2d0dafd6d09384f4f527969cd409a30    25\n",
       "3c9d16f6b7dc853083ec5820b989205ab9943fca    23\n",
       "6cce85cdf00f2e164a8c9fcd71467d9c46559c20    20\n",
       "Name: document_id, Length: 1572, dtype: int64"
      ]
     },
     "execution_count": 16,
     "metadata": {},
     "output_type": "execute_result"
    }
   ],
   "source": [
    "_all.document_id.value_counts()"
   ]
  },
  {
   "cell_type": "code",
   "execution_count": 37,
   "metadata": {},
   "outputs": [],
   "source": [
    "su = summaries[summaries.document_id == \"6cce85cdf00f2e164a8c9fcd71467d9c46559c20\"].summary"
   ]
  },
  {
   "cell_type": "code",
   "execution_count": 44,
   "metadata": {},
   "outputs": [
    {
     "data": {
      "text/plain": [
       "' Rose Lorkowski (Amy Adams) is a thirty-something single mother, working full-time as a maid. Her underachieving sister Norah (Emily Blunt) lives with their father Joe (Alan Arkin), and is fired from her job as a waitress. After the school expels Rose\\'s son Oscar for his erratic behavior, she is told she must put him on medication or send him to a private school. Unable to make enough money with her current job, Rose asks Mac (Steve Zahn), her ex-boyfriend during their high school years and her married lover, for advice. Mac recommends a crime scene cleanup job, and with his connections as a police officer, he gets Rose and Norah into the business.\\nAt first, the sisters perform their job poorly, carelessly handling the hazardous materials by throwing them into dumpsters instead of properly disposing of them in an incinerator. Needing to operate as a more reputable service, the sisters get the necessary tools from Winston (Clifton Collins, Jr.), a one-armed storekeeper of a shop for cleanup material. The sisters name their cleanup business \"Sunshine Cleaning\" and start making progress as their reputation grows. They begin to find meaning in their function to \"help\" in some way in the aftermath of a loss or disaster, even though the job stirs up memories of their own mother\\'s suicide. At the same time, the members of the family deal with their individual problems. Rose encounters some of her former high school classmates and is embarrassed by the state of her position in life. After an encounter with Mac\\'s pregnant wife in a gas station, Rose realizes that Mac will never leave his marriage, and ends their relationship. Norah meets and has a relationship with Lynn, the daughter of a woman whose house they cleaned. Joe begins to sell shrimp, hoping to raise enough money to buy a pair of expensive binoculars that Oscar wants for his birthday.\\nOne day, an insurance company calls for the services of Sunshine Cleaning, granting the sisters the potential to obtain a breakthrough reputation. Unfortunately for Rose, a baby shower is on the same day, with all her high school classmates attending. She asks Norah to clean the house alone until she can catch up. Norah\\'s attempt to clean the house is disastrous as she accidentally burns down the house with an unattended candle. The burning of the house tarnishes the business reputation and they are forced to pay a debt of $40,000, which the sisters simply cannot afford. Sunshine Cleaning goes out of business, and Rose is forced to return to her previous job as a maid. Meanwhile, Joe\\'s shrimp plan goes awry as all the stores and restaurants he approaches refuse to buy. Joe had not realized when he purchased the shrimp that no legitimate business would be willing to accept the health risks involved in buying food from a non-reputable source. Lynn becomes frustrated as she questions whether Norah was truly interested in her at all. At Oscar\\'s birthday party, Norah apologizes to Rose, and despite still being mad at her, Rose forgives her. The family and Winston then celebrate Oscar\\'s birthday.\\nSometime later, Rose visits her father who says he\\'s sold his house and explains that with the money, he has started, with Winston\\'s help, a new cleanup business named Lorkowski Cleaning. He asks Rose to go into partnership with him and she agrees. Norah goes on a road trip to find her new self, while Rose starts working with her father at Lorkowski Cleaning. The movie ends on a positive note, with the implication that Norah has reached a positive turning point in her life and is at peace with herself and that Rose will successfully run her business while also looking after her eccentric father.'"
      ]
     },
     "execution_count": 44,
     "metadata": {},
     "output_type": "execute_result"
    }
   ],
   "source": [
    "list(su)[0]"
   ]
  },
  {
   "cell_type": "code",
   "execution_count": 57,
   "metadata": {},
   "outputs": [],
   "source": [
    "training_set2 = []\n",
    "for _id in training.document_id.unique():\n",
    "    summary = summaries[summaries.document_id == _id].summary\n",
    "    summary = list(summary)[0]\n",
    "    AQ_set = \"\"\n",
    "    for index, row in training[training.document_id == _id].iterrows():\n",
    "        question_text = row.question\n",
    "        answer_text = row.answer1+\" OR \"+row.answer2\n",
    "        AQ_set += \"[answer] {}\\n[question] {}\\n\".format(answer_text, question_text)\n",
    "    AQ_set =\"<|startoftext|>\\n[summary] {}\\n\".format(summary) + AQ_set + \"<|endoftext|>\\n\"\n",
    "    training_set2.append(AQ_set)\n",
    "    "
   ]
  },
  {
   "cell_type": "code",
   "execution_count": 59,
   "metadata": {},
   "outputs": [
    {
     "data": {
      "text/plain": [
       "1102"
      ]
     },
     "execution_count": 59,
     "metadata": {},
     "output_type": "execute_result"
    }
   ],
   "source": [
    "len(training_set2)"
   ]
  },
  {
   "cell_type": "code",
   "execution_count": 60,
   "metadata": {},
   "outputs": [],
   "source": [
    "f = open(\"training_set[2].txt\",\"w\", encoding='utf-8')\n",
    "f.writelines(training_set2)\n",
    "f.close()"
   ]
  },
  {
   "cell_type": "code",
   "execution_count": 61,
   "metadata": {},
   "outputs": [
    {
     "name": "stdout",
     "output_type": "stream",
     "text": [
      "Context: l\n",
      "Answer: e\n"
     ]
    }
   ],
   "source": [
    "ctx = input(\"Context: \")\n",
    "ans = input(\"Answer: \")\n",
    "qst = \"[QUESTION]:\"\n",
    "pre = '<|startoftext|>\\n[CONTEXT]: ' + ctx + \"\\n[ANSWER]:\" + ans + \"\\n\" + qst"
   ]
  },
  {
   "cell_type": "code",
   "execution_count": null,
   "metadata": {},
   "outputs": [],
   "source": []
  }
 ],
 "metadata": {
  "accelerator": "GPU",
  "colab": {
   "collapsed_sections": [],
   "name": "qg_from_summaries.ipynb",
   "provenance": [],
   "toc_visible": true
  },
  "kernelspec": {
   "display_name": "Python 3",
   "language": "python",
   "name": "python3"
  },
  "language_info": {
   "codemirror_mode": {
    "name": "ipython",
    "version": 3
   },
   "file_extension": ".py",
   "mimetype": "text/x-python",
   "name": "python",
   "nbconvert_exporter": "python",
   "pygments_lexer": "ipython3",
   "version": "3.7.6"
  }
 },
 "nbformat": 4,
 "nbformat_minor": 1
}
