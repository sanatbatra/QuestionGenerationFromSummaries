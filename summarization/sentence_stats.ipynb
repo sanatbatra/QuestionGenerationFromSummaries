{
 "cells": [
  {
   "cell_type": "code",
   "execution_count": 0,
   "metadata": {
    "colab": {
     "base_uri": "https://localhost:8080/",
     "height": 51
    },
    "colab_type": "code",
    "executionInfo": {
     "elapsed": 4713,
     "status": "ok",
     "timestamp": 1589298950759,
     "user": {
      "displayName": "Eileen Cho",
      "photoUrl": "",
      "userId": "03381570147993013394"
     },
     "user_tz": 240
    },
    "id": "X60XVw-zlaeG",
    "outputId": "a1deb99e-8c80-4139-aacf-683b3565e073"
   },
   "outputs": [
    {
     "name": "stdout",
     "output_type": "stream",
     "text": [
      "Requirement already satisfied: nltk in /usr/local/lib/python3.6/dist-packages (3.2.5)\n",
      "Requirement already satisfied: six in /usr/local/lib/python3.6/dist-packages (from nltk) (1.12.0)\n"
     ]
    }
   ],
   "source": [
    "!pip install nltk"
   ]
  },
  {
   "cell_type": "code",
   "execution_count": 1,
   "metadata": {
    "colab": {
     "base_uri": "https://localhost:8080/",
     "height": 68
    },
    "colab_type": "code",
    "executionInfo": {
     "elapsed": 2482,
     "status": "ok",
     "timestamp": 1589334297952,
     "user": {
      "displayName": "Eileen Cho",
      "photoUrl": "",
      "userId": "03381570147993013394"
     },
     "user_tz": 240
    },
    "id": "6bNLh8rkkydv",
    "outputId": "5747b005-10ab-4412-839a-9baf22ff4137"
   },
   "outputs": [
    {
     "name": "stderr",
     "output_type": "stream",
     "text": [
      "[nltk_data] Downloading package punkt to /Users/echo/nltk_data...\n",
      "[nltk_data]   Package punkt is already up-to-date!\n"
     ]
    }
   ],
   "source": [
    "import os\n",
    "import pandas as pd\n",
    "import nltk\n",
    "from nltk.tokenize import sent_tokenize\n",
    "nltk.download('punkt')\n",
    "import matplotlib.pyplot as plt"
   ]
  },
  {
   "cell_type": "code",
   "execution_count": 44,
   "metadata": {
    "colab": {},
    "colab_type": "code",
    "id": "BO4vAEtambaE"
   },
   "outputs": [],
   "source": [
    "# summarization_path = \"/content/drive/My Drive/2020 Spring/NLU/Project/NLU_Project/SummQG/summarization\"\n",
    "# output_data_path = \"/content/drive/My Drive/2020 Spring/NLU/Project/NLU_Project/SummQG/data/narrativeqa\"\n",
    "# orig_data_path = \"/content/drive/My Drive/2020 Spring/NLU/Project/NLU_Project/SummQG/Fine-tuning_GPT-2_for_QG\"\n",
    "\n",
    "summarization_path = \".\"\n",
    "output_data_path = \"../data/narrativeqa\"\n",
    "orig_data_path = \"../Fine-tuning_GPT-2_for_QG\"\n",
    "\n",
    "bart_summaries = pd.read_csv(os.path.join(summarization_path, \"BART_summaries.csv\"))\n"
   ]
  },
  {
   "cell_type": "markdown",
   "metadata": {
    "colab_type": "text",
    "id": "Q179tz6Z4ubv"
   },
   "source": [
    "# Distribution of BART summaries sentence length"
   ]
  },
  {
   "cell_type": "code",
   "execution_count": 11,
   "metadata": {
    "colab": {},
    "colab_type": "code",
    "id": "uBMz6jK_tX1v"
   },
   "outputs": [],
   "source": [
    "bart_summaries[\"sentencized\"] = bart_summaries[\"bart_summaries\"].apply(sent_tokenize)"
   ]
  },
  {
   "cell_type": "code",
   "execution_count": 12,
   "metadata": {
    "colab": {},
    "colab_type": "code",
    "id": "VFTS2fpSuY90"
   },
   "outputs": [],
   "source": [
    "bart_summaries[\"num_sent\"] = bart_summaries[\"sentencized\"].apply(len)"
   ]
  },
  {
   "cell_type": "code",
   "execution_count": 13,
   "metadata": {},
   "outputs": [
    {
     "data": {
      "text/plain": [
       "1572"
      ]
     },
     "execution_count": 13,
     "metadata": {},
     "output_type": "execute_result"
    }
   ],
   "source": [
    "bart_summaries.shape[0]"
   ]
  },
  {
   "cell_type": "code",
   "execution_count": 15,
   "metadata": {},
   "outputs": [
    {
     "data": {
      "text/plain": [
       "count    1572.000000\n",
       "mean        3.666667\n",
       "std         0.969731\n",
       "min         1.000000\n",
       "25%         3.000000\n",
       "50%         4.000000\n",
       "75%         4.000000\n",
       "max        10.000000\n",
       "Name: num_sent, dtype: float64"
      ]
     },
     "execution_count": 15,
     "metadata": {},
     "output_type": "execute_result"
    }
   ],
   "source": [
    "bart_summaries[\"num_sent\"].describe()"
   ]
  },
  {
   "cell_type": "code",
   "execution_count": 10,
   "metadata": {
    "colab": {
     "base_uri": "https://localhost:8080/",
     "height": 285
    },
    "colab_type": "code",
    "executionInfo": {
     "elapsed": 878,
     "status": "ok",
     "timestamp": 1589303663592,
     "user": {
      "displayName": "Eileen Cho",
      "photoUrl": "",
      "userId": "03381570147993013394"
     },
     "user_tz": 240
    },
    "id": "KdHNVCVPulW9",
    "outputId": "806e0dd0-5170-409e-e529-9f39bb943e4d"
   },
   "outputs": [
    {
     "data": {
      "image/png": "[encoded data removed]",
      "text/plain": [
       "<Figure size 432x288 with 1 Axes>"
      ]
     },
     "metadata": {
      "needs_background": "light"
     },
     "output_type": "display_data"
    }
   ],
   "source": [
    "fig = bart_summaries.num_sent.hist()\n",
    "plt.xlabel(\"Number of Sentences in Summary\")\n",
    "plt.ylabel(\"Number of Summaries\")\n",
    "plt.savefig(os.path.join(summarization_path,\"bart_sent_lengths.png\"))"
   ]
  },
  {
   "cell_type": "code",
   "execution_count": 0,
   "metadata": {
    "colab": {},
    "colab_type": "code",
    "id": "71Mi78WluuuX"
   },
   "outputs": [],
   "source": [
    "bart_summaries.to_csv(os.path.join(summarization_path, \"BART_summaries.csv\"),index=False)"
   ]
  },
  {
   "cell_type": "markdown",
   "metadata": {
    "colab_type": "text",
    "id": "_wjagNwh5G_z"
   },
   "source": [
    "# Question Diversity"
   ]
  },
  {
   "cell_type": "code",
   "execution_count": 3,
   "metadata": {
    "colab": {},
    "colab_type": "code",
    "id": "gXR6ibsZDa30"
   },
   "outputs": [],
   "source": [
    "from collections import Counter, defaultdict"
   ]
  },
  {
   "cell_type": "code",
   "execution_count": 46,
   "metadata": {
    "colab": {},
    "colab_type": "code",
    "id": "J-SHO3Ec5M8Q"
   },
   "outputs": [],
   "source": [
    "# results_folder = \"/content/drive/My Drive/2020 Spring/NLU/Project/NLU_Project/SummQG/results\"\n",
    "results_folder = \"../qgevalcap/cleaned_results\"\n",
    "\n",
    "data_file = os.path.join(results_folder, data_file_name)"
   ]
  },
  {
   "cell_type": "code",
   "execution_count": 79,
   "metadata": {
    "colab": {},
    "colab_type": "code",
    "id": "iVk8PNA7-4nH"
   },
   "outputs": [],
   "source": [
    "def q_diversity(data_file):\n",
    "    #n1 = Counter()\n",
    "    n1_n2 = defaultdict(Counter)\n",
    "    with open(data_file) as f:\n",
    "        temp = \"\"\n",
    "        for line in f:\n",
    "            split_line = line.lower().split()\n",
    "            if len(split_line)>2:\n",
    "                n1_n2[split_line[0]][split_line[1]]+=1\n",
    "            else:\n",
    "                n1_n2[split_line[0]]['']+=1\n",
    "            \n",
    "    tables = []\n",
    "    for k in n1_n2:\n",
    "        temp = pd.DataFrame.from_dict(n1_n2[k],orient=\"index\", columns=[\"instances\"])\n",
    "        temp.insert(0, \"word_2\",temp.index)\n",
    "        temp.insert(0,\"word_1\",[k]*temp.shape[0])\n",
    "        temp = temp.reset_index(drop=True)\n",
    "        tables.append(temp)\n",
    "    df = pd.concat(tables)\n",
    "    df = df.reset_index(drop=True)\n",
    "    return df, n1_n2\n"
   ]
  },
  {
   "cell_type": "code",
   "execution_count": 50,
   "metadata": {},
   "outputs": [],
   "source": [
    "def stats(df):\n",
    "    \n",
    "    total = df.instances.sum()\n",
    "    wh_words = df[df.word_1.isin([\"who\",\"what\",\"when\",\"where\",\"what\",\"why\"])].instances.sum()\n",
    "    others = total-wh_words\n",
    "    top_5_w1_df = df.groupby(\"word_1\").sum().sort_values(\"instances\",ascending=False)\n",
    "    top_5_w1_df[\"pct\"] = top_5_w1_df[\"instances\"]/total\n",
    "    top_5_w1_w2_df = df.groupby([\"word_1\",\"word_2\"]).sum().sort_values(\"instances\",ascending=False)\n",
    "    top_5_w1_w2_df[\"pct\"] = top_5_w1_w2_df[\"instances\"]/total\n",
    "    \n",
    "    print(f'Total: {total}')\n",
    "    print(f'\"WH\" words: {wh_words} ... {wh_words/total}')\n",
    "    print(f'others: {others} ... {others/total}')\n",
    "    print('top 5 word 1')\n",
    "    print(top_5_w1_df.head())\n",
    "    print(top_5_w1_w2_df.head())\n",
    "    \n",
    "          \n",
    "    \n",
    "    return {\"total\": total, \"wh_words\": wh_words, \"others\": others}, top_5_w1_df, top_5_w1_w2_df"
   ]
  },
  {
   "cell_type": "code",
   "execution_count": 40,
   "metadata": {},
   "outputs": [],
   "source": [
    "pd.set_option('display.max_rows', first_two_df.shape[0]+1) "
   ]
  },
  {
   "cell_type": "markdown",
   "metadata": {},
   "source": [
    "# Narrative QA"
   ]
  },
  {
   "cell_type": "markdown",
   "metadata": {},
   "source": [
    "## Gold questions - nqa_gold.txt"
   ]
  },
  {
   "cell_type": "code",
   "execution_count": 80,
   "metadata": {},
   "outputs": [
    {
     "name": "stdout",
     "output_type": "stream",
     "text": [
      "Total: 8235\n",
      "\"WH\" words: 6609 ... 0.8025500910746812\n",
      "others: 1626 ... 0.19744990892531877\n",
      "top 5 word 1\n",
      "        instances       pct\n",
      "word_1                     \n",
      "what         3216  0.390528\n",
      "who          1927  0.234001\n",
      "how           845  0.102611\n",
      "why           731  0.088767\n",
      "where         607  0.073710\n",
      "               instances       pct\n",
      "word_1 word_2                     \n",
      "what   is            792  0.096175\n",
      "       does          689  0.083667\n",
      "who    is            586  0.071160\n",
      "       does          338  0.041044\n",
      "why    does          291  0.035337\n"
     ]
    }
   ],
   "source": [
    "data_file = os.path.join(results_folder, \"nqa_gold.txt\")\n",
    "df_gold,_ = q_diversity(data_file)\n",
    "stats_dict_gold, first_df_gold, first_two_df_gold = stats(df_gold)"
   ]
  },
  {
   "cell_type": "markdown",
   "metadata": {},
   "source": [
    "## Generated - nqa_generated.txt"
   ]
  },
  {
   "cell_type": "code",
   "execution_count": 82,
   "metadata": {},
   "outputs": [
    {
     "name": "stdout",
     "output_type": "stream",
     "text": [
      "Total: 8235\n",
      "\"WH\" words: 7431 ... 0.902367941712204\n",
      "others: 804 ... 0.09763205828779599\n",
      "top 5 word 1\n",
      "        instances       pct\n",
      "word_1                     \n",
      "what         3789  0.460109\n",
      "who          2339  0.284032\n",
      "how           761  0.092410\n",
      "where         632  0.076746\n",
      "why           610  0.074074\n",
      "               instances       pct\n",
      "word_1 word_2                     \n",
      "who    is           1503  0.182514\n",
      "what   does         1431  0.173770\n",
      "       is           1121  0.136126\n",
      "where  does          503  0.061081\n",
      "who    does          479  0.058166\n"
     ]
    }
   ],
   "source": [
    "data_file = os.path.join(results_folder, \"nqa_generated.txt\")\n",
    "df_generated,_ = q_diversity(data_file)\n",
    "stats_dict_generated, first_df_generated, first_two_df_generated = stats(df_generated)"
   ]
  },
  {
   "cell_type": "code",
   "execution_count": null,
   "metadata": {},
   "outputs": [],
   "source": []
  }
 ],
 "metadata": {
  "colab": {
   "authorship_tag": "ABX9TyNQtkFmjPj6blGO1sX9rVXV",
   "mount_file_id": "1XtxhWzWSqj5vV6l2EBD-Pta4BhGaceBo",
   "name": "sentence_stats.ipynb",
   "provenance": []
  },
  "kernelspec": {
   "display_name": "Python 3",
   "language": "python",
   "name": "python3"
  },
  "language_info": {
   "codemirror_mode": {
    "name": "ipython",
    "version": 3
   },
   "file_extension": ".py",
   "mimetype": "text/x-python",
   "name": "python",
   "nbconvert_exporter": "python",
   "pygments_lexer": "ipython3",
   "version": "3.6.7"
  }
 },
 "nbformat": 4,
 "nbformat_minor": 1
}
